{
 "cells": [
  {
   "cell_type": "code",
   "execution_count": 1,
   "metadata": {},
   "outputs": [],
   "source": [
    "import pandas as pd\n",
    "\n",
    "df_tmdb = pd.read_csv('https://raw.githubusercontent.com/Phil-BENISSAN/tmdb/main/tmdb_small.csv')"
   ]
  },
  {
   "cell_type": "code",
   "execution_count": 2,
   "metadata": {},
   "outputs": [
    {
     "name": "stdout",
     "output_type": "stream",
     "text": [
      "   Unnamed: 0    budget                                      genres  \\\n",
      "0           5   4000000                         ['Crime', 'Comedy']   \n",
      "1           9  11000000  ['Adventure', 'Action', 'Science Fiction']   \n",
      "2          10  94000000                     ['Animation', 'Family']   \n",
      "3          11  55000000              ['Comedy', 'Drama', 'Romance']   \n",
      "4          15         0           ['Horror', 'Thriller', 'Mystery']   \n",
      "\n",
      "                                            homepage  id original_title  \\\n",
      "0          https://www.miramax.com/movie/four-rooms/   5     Four Rooms   \n",
      "1  http://www.starwars.com/films/star-wars-episod...  11      Star Wars   \n",
      "2              http://movies.disney.com/finding-nemo  12   Finding Nemo   \n",
      "3  https://www.paramountmovies.com/movies/forrest...  13   Forrest Gump   \n",
      "4                     http://www.whatisannwyn.co.uk/  17       The Dark   \n",
      "\n",
      "                                            overview  popularity  \\\n",
      "0  It's Ted the Bellhop's first night on the job....      18.734   \n",
      "1  Princess Leia is captured and held hostage by ...      90.988   \n",
      "2  Nemo, an adventurous young clownfish, is unexp...      68.898   \n",
      "3  A man with a low IQ has accomplished great thi...      52.321   \n",
      "4  In an attempt to pull her family together, Adè...       7.178   \n",
      "\n",
      "                        poster_path production_countries  ... runtime  \\\n",
      "0  /75aHn1NOYXh4M7L5shoeQ6NGykP.jpg               ['US']  ...      98   \n",
      "1  /6FfCtAuVAW8XJjZ7eWeLibRLWTw.jpg               ['US']  ...     121   \n",
      "2  /5lc6nQc0VhWFYFbNv016xze8Jvy.jpg               ['US']  ...     100   \n",
      "3  /arw2vcBveWOVZr6pxd9XTd1TdQa.jpg               ['US']  ...     142   \n",
      "4  /wZeBHVnCvaS2bwkb8jFQ0PwZwXq.jpg         ['DE', 'GB']  ...      87   \n",
      "\n",
      "   spoken_languages    status  \\\n",
      "0            ['en']  Released   \n",
      "1            ['en']  Released   \n",
      "2            ['en']  Released   \n",
      "3            ['en']  Released   \n",
      "4      ['en', 'cy']  Released   \n",
      "\n",
      "                                             tagline         title  video  \\\n",
      "0  Twelve outrageous guests. Four scandalous requ...    Four Rooms  False   \n",
      "1       A long time ago in a galaxy far, far away...     Star Wars  False   \n",
      "2  There are 3.7 trillion fish in the ocean. They...  Finding Nemo  False   \n",
      "3  The world will never be the same once you've s...  Forrest Gump  False   \n",
      "4             One of the living for one of the dead.      The Dark  False   \n",
      "\n",
      "  vote_average  vote_count                          production_companies_name  \\\n",
      "0        5.758        2357                        ['Miramax', 'A Band Apart']   \n",
      "1        8.208       18582             ['Lucasfilm Ltd.', '20th Century Fox']   \n",
      "2        7.823       17625                                          ['Pixar']   \n",
      "3        8.481       24593  ['Paramount', 'The Steve Tisch Company', 'Wend...   \n",
      "4        5.815         232  ['Constantin Film', 'Impact Pictures', 'Isle o...   \n",
      "\n",
      "   production_companies_country  \n",
      "0                  ['US', 'US']  \n",
      "1                  ['US', 'US']  \n",
      "2                        ['US']  \n",
      "3                ['US', '', '']  \n",
      "4      ['DE', 'GB', 'GB', 'GB']  \n",
      "\n",
      "[5 rows x 22 columns]\n"
     ]
    }
   ],
   "source": [
    "print(df_tmdb.head())"
   ]
  },
  {
   "cell_type": "code",
   "execution_count": 3,
   "metadata": {},
   "outputs": [
    {
     "name": "stdout",
     "output_type": "stream",
     "text": [
      "<class 'pandas.core.frame.DataFrame'>\n",
      "RangeIndex: 8392 entries, 0 to 8391\n",
      "Data columns (total 22 columns):\n",
      " #   Column                        Non-Null Count  Dtype  \n",
      "---  ------                        --------------  -----  \n",
      " 0   Unnamed: 0                    8392 non-null   int64  \n",
      " 1   budget                        8392 non-null   int64  \n",
      " 2   genres                        8392 non-null   object \n",
      " 3   homepage                      8392 non-null   object \n",
      " 4   id                            8392 non-null   int64  \n",
      " 5   original_title                8392 non-null   object \n",
      " 6   overview                      8392 non-null   object \n",
      " 7   popularity                    8392 non-null   float64\n",
      " 8   poster_path                   8392 non-null   object \n",
      " 9   production_countries          8392 non-null   object \n",
      " 10  release_date                  8392 non-null   object \n",
      " 11  revenue                       8392 non-null   int64  \n",
      " 12  runtime                       8392 non-null   int64  \n",
      " 13  spoken_languages              8392 non-null   object \n",
      " 14  status                        8392 non-null   object \n",
      " 15  tagline                       8392 non-null   object \n",
      " 16  title                         8392 non-null   object \n",
      " 17  video                         8392 non-null   bool   \n",
      " 18  vote_average                  8392 non-null   float64\n",
      " 19  vote_count                    8392 non-null   int64  \n",
      " 20  production_companies_name     8392 non-null   object \n",
      " 21  production_companies_country  8392 non-null   object \n",
      "dtypes: bool(1), float64(2), int64(6), object(13)\n",
      "memory usage: 1.4+ MB\n"
     ]
    }
   ],
   "source": [
    "df_tmdb.info()"
   ]
  },
  {
   "cell_type": "code",
   "execution_count": 4,
   "metadata": {},
   "outputs": [],
   "source": [
    "# Extraire Nom du film, Résumé du film, Note du film, Affiche du film\n",
    "\n",
    "df_reduit = df_tmdb[[\"original_title\", \"overview\", \"vote_average\", \"poster_path\"]]"
   ]
  },
  {
   "cell_type": "code",
   "execution_count": 5,
   "metadata": {},
   "outputs": [
    {
     "data": {
      "text/html": [
       "<div>\n",
       "<style scoped>\n",
       "    .dataframe tbody tr th:only-of-type {\n",
       "        vertical-align: middle;\n",
       "    }\n",
       "\n",
       "    .dataframe tbody tr th {\n",
       "        vertical-align: top;\n",
       "    }\n",
       "\n",
       "    .dataframe thead th {\n",
       "        text-align: right;\n",
       "    }\n",
       "</style>\n",
       "<table border=\"1\" class=\"dataframe\">\n",
       "  <thead>\n",
       "    <tr style=\"text-align: right;\">\n",
       "      <th></th>\n",
       "      <th>original_title</th>\n",
       "      <th>overview</th>\n",
       "      <th>vote_average</th>\n",
       "      <th>poster_path</th>\n",
       "    </tr>\n",
       "  </thead>\n",
       "  <tbody>\n",
       "    <tr>\n",
       "      <th>0</th>\n",
       "      <td>Four Rooms</td>\n",
       "      <td>It's Ted the Bellhop's first night on the job....</td>\n",
       "      <td>5.758</td>\n",
       "      <td>/75aHn1NOYXh4M7L5shoeQ6NGykP.jpg</td>\n",
       "    </tr>\n",
       "    <tr>\n",
       "      <th>1</th>\n",
       "      <td>Star Wars</td>\n",
       "      <td>Princess Leia is captured and held hostage by ...</td>\n",
       "      <td>8.208</td>\n",
       "      <td>/6FfCtAuVAW8XJjZ7eWeLibRLWTw.jpg</td>\n",
       "    </tr>\n",
       "    <tr>\n",
       "      <th>2</th>\n",
       "      <td>Finding Nemo</td>\n",
       "      <td>Nemo, an adventurous young clownfish, is unexp...</td>\n",
       "      <td>7.823</td>\n",
       "      <td>/5lc6nQc0VhWFYFbNv016xze8Jvy.jpg</td>\n",
       "    </tr>\n",
       "    <tr>\n",
       "      <th>3</th>\n",
       "      <td>Forrest Gump</td>\n",
       "      <td>A man with a low IQ has accomplished great thi...</td>\n",
       "      <td>8.481</td>\n",
       "      <td>/arw2vcBveWOVZr6pxd9XTd1TdQa.jpg</td>\n",
       "    </tr>\n",
       "    <tr>\n",
       "      <th>4</th>\n",
       "      <td>The Dark</td>\n",
       "      <td>In an attempt to pull her family together, Adè...</td>\n",
       "      <td>5.815</td>\n",
       "      <td>/wZeBHVnCvaS2bwkb8jFQ0PwZwXq.jpg</td>\n",
       "    </tr>\n",
       "  </tbody>\n",
       "</table>\n",
       "</div>"
      ],
      "text/plain": [
       "  original_title                                           overview  \\\n",
       "0     Four Rooms  It's Ted the Bellhop's first night on the job....   \n",
       "1      Star Wars  Princess Leia is captured and held hostage by ...   \n",
       "2   Finding Nemo  Nemo, an adventurous young clownfish, is unexp...   \n",
       "3   Forrest Gump  A man with a low IQ has accomplished great thi...   \n",
       "4       The Dark  In an attempt to pull her family together, Adè...   \n",
       "\n",
       "   vote_average                       poster_path  \n",
       "0         5.758  /75aHn1NOYXh4M7L5shoeQ6NGykP.jpg  \n",
       "1         8.208  /6FfCtAuVAW8XJjZ7eWeLibRLWTw.jpg  \n",
       "2         7.823  /5lc6nQc0VhWFYFbNv016xze8Jvy.jpg  \n",
       "3         8.481  /arw2vcBveWOVZr6pxd9XTd1TdQa.jpg  \n",
       "4         5.815  /wZeBHVnCvaS2bwkb8jFQ0PwZwXq.jpg  "
      ]
     },
     "execution_count": 5,
     "metadata": {},
     "output_type": "execute_result"
    }
   ],
   "source": [
    "df_reduit.head()"
   ]
  },
  {
   "cell_type": "code",
   "execution_count": null,
   "metadata": {},
   "outputs": [
    {
     "name": "stderr",
     "output_type": "stream",
     "text": [
      "/tmp/ipykernel_99259/913250673.py:9: SettingWithCopyWarning: \n",
      "A value is trying to be set on a copy of a slice from a DataFrame.\n",
      "Try using .loc[row_indexer,col_indexer] = value instead\n",
      "\n",
      "See the caveats in the documentation: https://pandas.pydata.org/pandas-docs/stable/user_guide/indexing.html#returning-a-view-versus-a-copy\n",
      "  df_reduit[\"full_poster\"] = df_reduit[\"poster_path\"].apply(full_path)\n"
     ]
    }
   ],
   "source": [
    "# Completer le path\n",
    "df_reduit = df_tmdb[[\"original_title\", \"overview\", \"vote_average\", \"poster_path\"]]\n",
    "def full_path(suffixe):\n",
    "    prefix = \"https://image.tmdb.org/t/p/w300\"\n",
    "    full_path = prefix + suffixe\n",
    "    \n",
    "    return full_path\n",
    "\n",
    "df_reduit[\"full_poster\"] = df_reduit[\"poster_path\"].apply(full_path)\n",
    "    \n",
    "\n"
   ]
  },
  {
   "cell_type": "code",
   "execution_count": 8,
   "metadata": {},
   "outputs": [
    {
     "name": "stdout",
     "output_type": "stream",
     "text": [
      "https://image.tmdb.org/t/p/w300/75aHn1NOYXh4M7L5shoeQ6NGykP.jpg\n"
     ]
    }
   ],
   "source": [
    "print(df_reduit.iloc[0, -1])"
   ]
  },
  {
   "cell_type": "code",
   "execution_count": 14,
   "metadata": {},
   "outputs": [
    {
     "name": "stderr",
     "output_type": "stream",
     "text": [
      "/tmp/ipykernel_99259/1836584039.py:8: SettingWithCopyWarning: \n",
      "A value is trying to be set on a copy of a slice from a DataFrame.\n",
      "Try using .loc[row_indexer,col_indexer] = value instead\n",
      "\n",
      "See the caveats in the documentation: https://pandas.pydata.org/pandas-docs/stable/user_guide/indexing.html#returning-a-view-versus-a-copy\n",
      "  df_reduit[\"full_poster\"] = df_reduit[\"poster_path\"].apply(full_path)\n",
      "/tmp/ipykernel_99259/1836584039.py:10: SettingWithCopyWarning: \n",
      "A value is trying to be set on a copy of a slice from a DataFrame\n",
      "\n",
      "See the caveats in the documentation: https://pandas.pydata.org/pandas-docs/stable/user_guide/indexing.html#returning-a-view-versus-a-copy\n",
      "  df_reduit.sort_values(by= \"vote_average\", ascending=False, inplace=True)\n",
      "/tmp/ipykernel_99259/1836584039.py:11: SettingWithCopyWarning: \n",
      "A value is trying to be set on a copy of a slice from a DataFrame\n",
      "\n",
      "See the caveats in the documentation: https://pandas.pydata.org/pandas-docs/stable/user_guide/indexing.html#returning-a-view-versus-a-copy\n",
      "  df_reduit.drop(columns=\"poster_path\", inplace=True)\n"
     ]
    },
    {
     "data": {
      "text/html": [
       "<div>\n",
       "<style scoped>\n",
       "    .dataframe tbody tr th:only-of-type {\n",
       "        vertical-align: middle;\n",
       "    }\n",
       "\n",
       "    .dataframe tbody tr th {\n",
       "        vertical-align: top;\n",
       "    }\n",
       "\n",
       "    .dataframe thead th {\n",
       "        text-align: right;\n",
       "    }\n",
       "</style>\n",
       "<table border=\"1\" class=\"dataframe\">\n",
       "  <thead>\n",
       "    <tr style=\"text-align: right;\">\n",
       "      <th></th>\n",
       "      <th>original_title</th>\n",
       "      <th>overview</th>\n",
       "      <th>vote_average</th>\n",
       "      <th>full_poster</th>\n",
       "    </tr>\n",
       "  </thead>\n",
       "  <tbody>\n",
       "    <tr>\n",
       "      <th>4568</th>\n",
       "      <td>National Theatre Live: Hansard</td>\n",
       "      <td>It's a summer's morning in 1988 and Tory polit...</td>\n",
       "      <td>10.0</td>\n",
       "      <td>https://image.tmdb.org/t/p/w300/korKk9arD2GPP2...</td>\n",
       "    </tr>\n",
       "    <tr>\n",
       "      <th>8390</th>\n",
       "      <td>Leera The Soulmate</td>\n",
       "      <td>Leera the Soulmate takes place in the distant ...</td>\n",
       "      <td>10.0</td>\n",
       "      <td>https://image.tmdb.org/t/p/w300/fZUot0svHgXjst...</td>\n",
       "    </tr>\n",
       "    <tr>\n",
       "      <th>8379</th>\n",
       "      <td>The Bhen-Jah-Man</td>\n",
       "      <td>After the masked serial killer known as \"The B...</td>\n",
       "      <td>10.0</td>\n",
       "      <td>https://image.tmdb.org/t/p/w300/cga83IKHPZmx2Y...</td>\n",
       "    </tr>\n",
       "    <tr>\n",
       "      <th>8388</th>\n",
       "      <td>April</td>\n",
       "      <td>Set to a vibrant landscape, 'April' follows th...</td>\n",
       "      <td>10.0</td>\n",
       "      <td>https://image.tmdb.org/t/p/w300/bZ5Td5X5nisD21...</td>\n",
       "    </tr>\n",
       "    <tr>\n",
       "      <th>8372</th>\n",
       "      <td>The Name of the Prime Minister</td>\n",
       "      <td>A psychiatrist is taken to a secret government...</td>\n",
       "      <td>10.0</td>\n",
       "      <td>https://image.tmdb.org/t/p/w300/5eYptYiuBC0dzy...</td>\n",
       "    </tr>\n",
       "  </tbody>\n",
       "</table>\n",
       "</div>"
      ],
      "text/plain": [
       "                      original_title  \\\n",
       "4568  National Theatre Live: Hansard   \n",
       "8390              Leera The Soulmate   \n",
       "8379                The Bhen-Jah-Man   \n",
       "8388                           April   \n",
       "8372  The Name of the Prime Minister   \n",
       "\n",
       "                                               overview  vote_average  \\\n",
       "4568  It's a summer's morning in 1988 and Tory polit...          10.0   \n",
       "8390  Leera the Soulmate takes place in the distant ...          10.0   \n",
       "8379  After the masked serial killer known as \"The B...          10.0   \n",
       "8388  Set to a vibrant landscape, 'April' follows th...          10.0   \n",
       "8372  A psychiatrist is taken to a secret government...          10.0   \n",
       "\n",
       "                                            full_poster  \n",
       "4568  https://image.tmdb.org/t/p/w300/korKk9arD2GPP2...  \n",
       "8390  https://image.tmdb.org/t/p/w300/fZUot0svHgXjst...  \n",
       "8379  https://image.tmdb.org/t/p/w300/cga83IKHPZmx2Y...  \n",
       "8388  https://image.tmdb.org/t/p/w300/bZ5Td5X5nisD21...  \n",
       "8372  https://image.tmdb.org/t/p/w300/5eYptYiuBC0dzy...  "
      ]
     },
     "execution_count": 14,
     "metadata": {},
     "output_type": "execute_result"
    }
   ],
   "source": [
    "\n",
    "df_reduit = df_tmdb[[\"original_title\", \"overview\", \"vote_average\", \"poster_path\"]]\n",
    "def full_path(suffixe):\n",
    "    prefix = \"https://image.tmdb.org/t/p/w300\"\n",
    "    full_path = prefix + suffixe\n",
    "    \n",
    "    return full_path\n",
    "\n",
    "df_reduit[\"full_poster\"] = df_reduit[\"poster_path\"].apply(full_path)\n",
    "    \n",
    "df_reduit.sort_values(by= \"vote_average\", ascending=False, inplace=True)\n",
    "df_reduit.drop(columns=\"poster_path\", inplace=True)\n",
    "df_reduit.iloc[:5, :]\n"
   ]
  },
  {
   "cell_type": "code",
   "execution_count": 15,
   "metadata": {},
   "outputs": [
    {
     "data": {
      "text/plain": [
       "8392"
      ]
     },
     "execution_count": 15,
     "metadata": {},
     "output_type": "execute_result"
    }
   ],
   "source": [
    "df_reduit.head(50)\n",
    "len(df_reduit)"
   ]
  },
  {
   "cell_type": "code",
   "execution_count": 37,
   "metadata": {},
   "outputs": [
    {
     "data": {
      "text/plain": [
       "[original_title                       National Theatre Live: Hansard\n",
       " overview          It's a summer's morning in 1988 and Tory polit...\n",
       " vote_average                                                   10.0\n",
       " full_poster       https://image.tmdb.org/t/p/w300/korKk9arD2GPP2...\n",
       " Name: 4568, dtype: object,\n",
       " original_title                                   Leera The Soulmate\n",
       " overview          Leera the Soulmate takes place in the distant ...\n",
       " vote_average                                                   10.0\n",
       " full_poster       https://image.tmdb.org/t/p/w300/fZUot0svHgXjst...\n",
       " Name: 8390, dtype: object,\n",
       " original_title                                     The Bhen-Jah-Man\n",
       " overview          After the masked serial killer known as \"The B...\n",
       " vote_average                                                   10.0\n",
       " full_poster       https://image.tmdb.org/t/p/w300/cga83IKHPZmx2Y...\n",
       " Name: 8379, dtype: object,\n",
       " original_title                                                April\n",
       " overview          Set to a vibrant landscape, 'April' follows th...\n",
       " vote_average                                                   10.0\n",
       " full_poster       https://image.tmdb.org/t/p/w300/bZ5Td5X5nisD21...\n",
       " Name: 8388, dtype: object,\n",
       " original_title                       The Name of the Prime Minister\n",
       " overview          A psychiatrist is taken to a secret government...\n",
       " vote_average                                                   10.0\n",
       " full_poster       https://image.tmdb.org/t/p/w300/5eYptYiuBC0dzy...\n",
       " Name: 8372, dtype: object]"
      ]
     },
     "execution_count": 37,
     "metadata": {},
     "output_type": "execute_result"
    }
   ],
   "source": [
    "[line[1] for line in df_reduit.head().iterrows()]"
   ]
  },
  {
   "cell_type": "code",
   "execution_count": 41,
   "metadata": {},
   "outputs": [
    {
     "name": "stdout",
     "output_type": "stream",
     "text": [
      "FORCE_COLOR: 1\n"
     ]
    }
   ],
   "source": [
    "import os\n",
    "\n",
    "# Afficher toutes les variables d'environnement\n",
    "for key, value in os.environ.items():\n",
    "    if key.startswith(\"F\"):\n",
    "        print(f\"{key}: {value}\")\n"
   ]
  }
 ],
 "metadata": {
  "kernelspec": {
   "display_name": "flask_env",
   "language": "python",
   "name": "python3"
  },
  "language_info": {
   "codemirror_mode": {
    "name": "ipython",
    "version": 3
   },
   "file_extension": ".py",
   "mimetype": "text/x-python",
   "name": "python",
   "nbconvert_exporter": "python",
   "pygments_lexer": "ipython3",
   "version": "3.10.12"
  }
 },
 "nbformat": 4,
 "nbformat_minor": 2
}
